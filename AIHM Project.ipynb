{
 "metadata": {
  "name": "",
  "signature": "sha256:9f4f6359b6bd094f7e94c3da1055da30b4114665d682782da12c45e844d766a6"
 },
 "nbformat": 3,
 "nbformat_minor": 0,
 "worksheets": [
  {
   "cells": [
    {
     "cell_type": "markdown",
     "metadata": {},
     "source": [
      "First loading the data : a lot of different things.\n",
      "    * data is the main data\n",
      "    * data_elements, data_categories and org_units are dictionnaries that apply to data\n",
      "    * org_units_groups is a dictionnary that apply to org_units"
     ]
    },
    {
     "cell_type": "code",
     "collapsed": false,
     "input": [
      "## making work environment\n",
      "\n",
      "from pandas import Series , DataFrame\n",
      "import pandas as pd , numpy as np"
     ],
     "language": "python",
     "metadata": {},
     "outputs": [],
     "prompt_number": 2
    },
    {
     "cell_type": "markdown",
     "metadata": {},
     "source": [
      "# Data presentation"
     ]
    },
    {
     "cell_type": "markdown",
     "metadata": {},
     "source": [
      "## Loading and formating the data"
     ]
    },
    {
     "cell_type": "code",
     "collapsed": false,
     "input": [
      "data = pd.read_csv('C://users/grlurton/desktop/extracted_data/data_kenya.csv')\n",
      "data_categories = pd.read_csv('C://users/grlurton/desktop/extracted_data/data_categories.csv')\n",
      "data_elements = pd.read_csv('C://users/grlurton/desktop/extracted_data/data_elements.csv')\n",
      "org_units = pd.read_csv('C://users/grlurton/desktop/extracted_data/org_units.csv')\n",
      "org_units_groups = pd.read_csv('C://users/grlurton/desktop/extracted_data/org_units_groups.csv')"
     ],
     "language": "python",
     "metadata": {},
     "outputs": [],
     "prompt_number": 3
    },
    {
     "cell_type": "code",
     "collapsed": false,
     "input": [
      "data = DataFrame(data)\n",
      "del data['Unnamed: 0']"
     ],
     "language": "python",
     "metadata": {},
     "outputs": [],
     "prompt_number": 4
    },
    {
     "cell_type": "code",
     "collapsed": false,
     "input": [
      "print data.head()\n",
      "\n",
      "print len(data)"
     ],
     "language": "python",
     "metadata": {},
     "outputs": [
      {
       "output_type": "stream",
       "stream": "stdout",
       "text": [
        "  data_element_ID  period  org_unit_ID value     category          last_update\n",
        "0     IrWSgk9GsUm  201205  bfiWYfkcaxW     1  SeDaCnHi3m5  2012-06-13T00:00:00\n",
        "1     IrWSgk9GsUm  201206  bfiWYfkcaxW     1  SeDaCnHi3m5  2012-07-13T00:00:00\n",
        "2     IrWSgk9GsUm  201404  bfiWYfkcaxW     1  SeDaCnHi3m5  2014-05-23T00:00:00\n",
        "3     IrWSgk9GsUm  201406  bfiWYfkcaxW     1  SeDaCnHi3m5  2014-07-10T00:00:00\n",
        "4     IrWSgk9GsUm  201407  bfiWYfkcaxW     1  SeDaCnHi3m5  2014-08-08T00:00:00\n",
        "49809663\n"
       ]
      }
     ],
     "prompt_number": 5
    },
    {
     "cell_type": "markdown",
     "metadata": {},
     "source": [
      "So, 49809663 records in the data"
     ]
    },
    {
     "cell_type": "code",
     "collapsed": false,
     "input": [
      "def label_IDs(data , var_id , dico_id , dico_name):\n",
      "    dico = dict(zip(dico_id,dico_name))\n",
      "    return data[var_id].map(dico)\n",
      "    \n",
      "data['data_element_name'] = label_IDs(data , 'data_element_ID' , data_elements['data_element_ID'] , data_elements['data_element_name'])\n",
      "data['category_name'] = label_IDs(data , 'category' , data_categories['category_ID'] , data_categories['category_name'])"
     ],
     "language": "python",
     "metadata": {},
     "outputs": [],
     "prompt_number": 6
    },
    {
     "cell_type": "markdown",
     "metadata": {},
     "source": [
      "## Real quick view into the content"
     ]
    },
    {
     "cell_type": "code",
     "collapsed": false,
     "input": [
      "data['data_element_name'].value_counts()"
     ],
     "language": "python",
     "metadata": {},
     "outputs": [
      {
       "metadata": {},
       "output_type": "pyout",
       "prompt_number": 7,
       "text": [
        "Tetanus Toxoid for Pregnant women      750288\n",
        "Other Disease of Respiratory System    545322\n",
        "First attendances                      539851\n",
        "DTC Outpatient Counselled              524117\n",
        "DTC Outpatient Tested                  512960\n",
        "OPD attendance >5yrs Female            508548\n",
        "OPD attendance >5yrs Male              506312\n",
        "Disease of the skin                    505784\n",
        "Re-attendances                         500459\n",
        "OPD Attendance <5yrs Male              492002\n",
        "Diarrhoea                              490920\n",
        "OPD Attendance <5yrs Female            489461\n",
        "All other diseases                     466243\n",
        "FP Injections                          440974\n",
        "ANC Attendance                         429705\n",
        "...\n",
        "2210701 Travel Allowances                                       1\n",
        "CHEW Total elderly Females 60+ years                            1\n",
        "Urine Chem- Total Bilirubin totalexam                           1\n",
        "Number of Outpatients that are overweight                       1\n",
        "L4 Number of deliveries                                         1\n",
        "IHRIS Human Resource Officers                                   1\n",
        "CHEW Severe malnutrition                                        1\n",
        "MOH 706_Syphillis blood screening positive                      1\n",
        "Number of performance review meetings held                      1\n",
        "Number of beds                                                  1\n",
        "CHEW Number of children of 12-59 months with diarhoea treated with Zinc and ORS    1\n",
        "CHEW Total Deliveries                                           1\n",
        "Amount for clients exempted (Kshs)                              1\n",
        "Test Kit- Others                                                1\n",
        "CHEW Maternal Death                                             1\n",
        "Length: 2697, dtype: int64"
       ]
      }
     ],
     "prompt_number": 7
    },
    {
     "cell_type": "code",
     "collapsed": false,
     "input": [
      "data['category_name'].value_counts()"
     ],
     "language": "python",
     "metadata": {},
     "outputs": [
      {
       "metadata": {},
       "output_type": "pyout",
       "prompt_number": 8,
       "text": [
        "(default)                    15578210\n",
        "(>5 yrs)                      5104842\n",
        "(<5 yrs)                      3418049\n",
        "(<1 Years)                    2873473\n",
        "(New clients)                 2706744\n",
        "(Re-visits)                   2444205\n",
        "(Male)                        1410164\n",
        "(Female)                      1403292\n",
        "(Adult >14yrs, Female)        1276521\n",
        "(Male, Adult >14yrs)          1136087\n",
        "(Beginning Balance)            604094\n",
        "(Physical Count.)              570873\n",
        "(Beginning Balance.)           511966\n",
        "(Children <14yrs, Female)      474160\n",
        "(Male, Children <14yrs)        467258\n",
        "...\n",
        "(POLY-RESISTANCE (PDR TB), H+E)    2\n",
        "(2-5 yrs,  Female)                 1\n",
        "( Female, 15-18yrs)                1\n",
        "(Ampicillin Sensitive)             1\n",
        "( Male, 15-18yrs)                  1\n",
        "(Chloramphenicol Sensitive)        1\n",
        "( Male, 11-14 yrs)                 1\n",
        "(11-14 yrs,  Female)               1\n",
        "(Children, Female, >16yrs)         1\n",
        "( Norm)                            1\n",
        "( Female)                          1\n",
        "( Male)                            1\n",
        "( Male, 2-5 yrs)                   1\n",
        "( Male, 6-10 yrs)                  1\n",
        "(6-10 yrs,  Female)                1\n",
        "Length: 478, dtype: int64"
       ]
      }
     ],
     "prompt_number": 8
    },
    {
     "cell_type": "code",
     "collapsed": false,
     "input": [
      "print org_units_groups['group_name'].value_counts()"
     ],
     "language": "python",
     "metadata": {},
     "outputs": [
      {
       "output_type": "stream",
       "stream": "stdout",
       "text": [
        "Ministry of Health               6342\n",
        "Dispensary                       4314\n",
        "Private Institution              2921\n",
        "Medical Clinic                   2876\n",
        "Community Unit                   2482\n",
        "Health Centre                    1058\n",
        "Faith Based Organisation          985\n",
        "GoK                               862\n",
        "Rift Valley Province              638\n",
        "Hospital                          528\n",
        "Community                         477\n",
        "Eastern Province                  476\n",
        "Coast Province                    462\n",
        "Non-Governmental Organisation     416\n",
        "KEMSA                             338\n",
        "...\n",
        "Kilindini TB Zone             1\n",
        "KOKWANYO EAST                 1\n",
        "Wundanyi TB Zone              1\n",
        "Samburu East  TB Zone         1\n",
        "HSSF HF                       1\n",
        "Zone A TB Zone                1\n",
        "Msekekwa H                    1\n",
        "Mandera West TB Zone          1\n",
        "Tinderet TB Zone              1\n",
        "miriam kamau                  1\n",
        "saseta community unit         1\n",
        "Laikipia North TB Zone        1\n",
        "Matete TB Zone                1\n",
        "Wajir North TB Zone           1\n",
        "Londiani District Hospital    1\n",
        "Length: 290, dtype: int64\n"
       ]
      }
     ],
     "prompt_number": 9
    },
    {
     "cell_type": "code",
     "collapsed": false,
     "input": [
      "facilities_type = ['Dispensary' , 'Health Centre'  ,'Hospital']\n",
      "\n",
      "facilities_id = org_units_groups[org_units_groups['group_name'].isin(facilities_type)]"
     ],
     "language": "python",
     "metadata": {},
     "outputs": [],
     "prompt_number": 10
    },
    {
     "cell_type": "code",
     "collapsed": false,
     "input": [
      "## Checking we have unique facilities\n",
      "\n",
      "print len(facilities_id) - len(facilities_id['org_unit_ID'].unique())\n",
      "print len(facilities_id)"
     ],
     "language": "python",
     "metadata": {},
     "outputs": [
      {
       "output_type": "stream",
       "stream": "stdout",
       "text": [
        "0\n",
        "5900\n"
       ]
      }
     ],
     "prompt_number": 11
    },
    {
     "cell_type": "markdown",
     "metadata": {},
     "source": [
      "The organisation units can be facilities or other type of orgunits (zones, provinces...). We want to keep only data coming from health facilities. "
     ]
    },
    {
     "cell_type": "code",
     "collapsed": false,
     "input": [
      "# Now spotting indicators from facilities\n",
      "\n",
      "data['facility_type'] = label_IDs(data , 'org_unit_ID' , facilities_id['org_unit_ID'] , facilities_id['group_name'])"
     ],
     "language": "python",
     "metadata": {},
     "outputs": [],
     "prompt_number": 12
    },
    {
     "cell_type": "code",
     "collapsed": false,
     "input": [
      "data_fac = data[data['facility_type'].isin(facilities_type)]"
     ],
     "language": "python",
     "metadata": {},
     "outputs": [],
     "prompt_number": 13
    },
    {
     "cell_type": "code",
     "collapsed": false,
     "input": [
      "len(data_fac)"
     ],
     "language": "python",
     "metadata": {},
     "outputs": [
      {
       "metadata": {},
       "output_type": "pyout",
       "prompt_number": 14,
       "text": [
        "42140300"
       ]
      }
     ],
     "prompt_number": 14
    },
    {
     "cell_type": "code",
     "collapsed": false,
     "input": [
      "#We want to work with indicators with a lot of different values > 100000\n",
      "\n",
      "val_c = data['data_element_name'].value_counts()"
     ],
     "language": "python",
     "metadata": {},
     "outputs": [],
     "prompt_number": 15
    },
    {
     "cell_type": "code",
     "collapsed": false,
     "input": [
      "to_keep = val_c[val_c > 100000] \n",
      "len(to_keep)"
     ],
     "language": "python",
     "metadata": {},
     "outputs": [
      {
       "metadata": {},
       "output_type": "pyout",
       "prompt_number": 16,
       "text": [
        "135"
       ]
      }
     ],
     "prompt_number": 16
    },
    {
     "cell_type": "code",
     "collapsed": false,
     "input": [
      "data_fac_keep = data_fac[data_fac['data_element_name'].isin(to_keep.index)]\n",
      "len(data_fac_keep)"
     ],
     "language": "python",
     "metadata": {},
     "outputs": [
      {
       "metadata": {},
       "output_type": "pyout",
       "prompt_number": 17,
       "text": [
        "26144903"
       ]
      }
     ],
     "prompt_number": 17
    },
    {
     "cell_type": "code",
     "collapsed": false,
     "input": [
      "#Finally we'll only keep period with most records\n",
      "data_fac_keep['period'].value_counts()"
     ],
     "language": "python",
     "metadata": {},
     "outputs": [
      {
       "metadata": {},
       "output_type": "pyout",
       "prompt_number": 18,
       "text": [
        "201407    632655\n",
        "201408    632012\n",
        "201405    628029\n",
        "201409    627297\n",
        "201402    625870\n",
        "201403    623728\n",
        "201406    621762\n",
        "201404    621606\n",
        "201307    615465\n",
        "201410    610953\n",
        "201401    608815\n",
        "201306    605667\n",
        "201305    604016\n",
        "201308    601786\n",
        "201411    601163\n",
        "...\n",
        "201003    18418\n",
        "201005    17162\n",
        "201004    16552\n",
        "200912     2464\n",
        "200901     2370\n",
        "200903     1833\n",
        "200905     1675\n",
        "200904     1618\n",
        "200906     1527\n",
        "200911     1107\n",
        "200910     1074\n",
        "200902     1060\n",
        "200909      979\n",
        "200907      910\n",
        "200908      880\n",
        "Length: 72, dtype: int64"
       ]
      }
     ],
     "prompt_number": 18
    },
    {
     "cell_type": "code",
     "collapsed": false,
     "input": [
      "##so ... july 2014\n",
      "\n",
      "data_to_class = data_fac_keep[data_fac_keep['period'] == '201407']\n",
      "len(data_to_class)"
     ],
     "language": "python",
     "metadata": {},
     "outputs": [
      {
       "metadata": {},
       "output_type": "pyout",
       "prompt_number": 19,
       "text": [
        "632655"
       ]
      }
     ],
     "prompt_number": 19
    },
    {
     "cell_type": "code",
     "collapsed": false,
     "input": [
      "data_to_class.columns"
     ],
     "language": "python",
     "metadata": {},
     "outputs": [
      {
       "metadata": {},
       "output_type": "pyout",
       "prompt_number": 20,
       "text": [
        "Index([u'data_element_ID', u'period', u'org_unit_ID', u'value', u'category', u'last_update', u'data_element_name', u'category_name', u'facility_type'], dtype='object')"
       ]
      }
     ],
     "prompt_number": 20
    },
    {
     "cell_type": "code",
     "collapsed": false,
     "input": [
      "## Reshape data in wide format\n",
      "data_to_class['unique_ID'] = data_to_class['data_element_ID'] + data_to_class['category']\n",
      "\n",
      "data_to_class_pivoted =  data_to_class.pivot_table(index = ['org_unit_ID'], columns = ['unique_ID'], \n",
      "                                                   values = 'value' , aggfunc = sum)\n",
      "\n"
     ],
     "language": "python",
     "metadata": {},
     "outputs": [],
     "prompt_number": 21
    },
    {
     "cell_type": "code",
     "collapsed": false,
     "input": [
      "data_to_class_pivoted = data_to_class_pivoted.dropna(how = 'all')\n",
      "\n",
      "y_val = DataFrame(data_to_class_pivoted.index)\n",
      "\n",
      "y_val['facility_type'] = label_IDs(y_val , 'org_unit_ID' , facilities_id['org_unit_ID'] , facilities_id['group_name'])"
     ],
     "language": "python",
     "metadata": {},
     "outputs": [],
     "prompt_number": 22
    },
    {
     "cell_type": "code",
     "collapsed": false,
     "input": [
      "y = y_val['facility_type']\n",
      "\n",
      "X_s = data_to_class_pivoted\n",
      "\n",
      "len(X_s) - len(y)"
     ],
     "language": "python",
     "metadata": {},
     "outputs": [
      {
       "metadata": {},
       "output_type": "pyout",
       "prompt_number": 37,
       "text": [
        "0"
       ]
      }
     ],
     "prompt_number": 37
    },
    {
     "cell_type": "code",
     "collapsed": false,
     "input": [
      "## Getting out data which is not strictly numeric\n",
      "\n",
      "col_X = len(X_s.columns)\n",
      "\n",
      "for nn in range(1,col_X) :\n",
      "    test = (X_s[[nn]] == '2014-10-03')\n",
      "    d = test[[0]].astype(float)\n",
      "    tot = d.sum()\n",
      "    if tot[0] > 0.0 :\n",
      "        print nn\n",
      "\n",
      "        \n",
      "        \n",
      "#del X_s['uxYaacfgY22NhSoXUMPK2K']"
     ],
     "language": "python",
     "metadata": {},
     "outputs": [],
     "prompt_number": 41
    },
    {
     "cell_type": "code",
     "collapsed": false,
     "input": [
      "X = X_s"
     ],
     "language": "python",
     "metadata": {},
     "outputs": [],
     "prompt_number": 42
    },
    {
     "cell_type": "markdown",
     "metadata": {},
     "source": [
      "## Doing some imputation for all the NA values"
     ]
    },
    {
     "cell_type": "code",
     "collapsed": false,
     "input": [
      "from sklearn.preprocessing import Imputer\n",
      "\n",
      "imp = Imputer(missing_values='NaN', strategy='mean', axis=0)\n",
      "imp.fit(X)\n",
      "\n",
      "X = DataFrame(imp.fit_transform(X))"
     ],
     "language": "python",
     "metadata": {},
     "outputs": [],
     "prompt_number": 25
    },
    {
     "cell_type": "markdown",
     "metadata": {},
     "source": [
      "It would be nice to explore a bit more what the impact of the imputation on the results is..."
     ]
    },
    {
     "cell_type": "markdown",
     "metadata": {},
     "source": [
      "# A Naive Bayes Classifier to start with"
     ]
    },
    {
     "cell_type": "code",
     "collapsed": false,
     "input": [
      "from sklearn.naive_bayes import GaussianNB\n",
      "gnb = GaussianNB()\n",
      "\n",
      "gnb.fit(X , y)"
     ],
     "language": "python",
     "metadata": {},
     "outputs": [
      {
       "metadata": {},
       "output_type": "pyout",
       "prompt_number": 26,
       "text": [
        "GaussianNB()"
       ]
      }
     ],
     "prompt_number": 26
    },
    {
     "cell_type": "code",
     "collapsed": false,
     "input": [
      "y_pred = gnb.predict(X)\n",
      "np.mean(y_pred == y)"
     ],
     "language": "python",
     "metadata": {},
     "outputs": [
      {
       "metadata": {},
       "output_type": "pyout",
       "prompt_number": 27,
       "text": [
        "0.75558121632024633"
       ]
      }
     ],
     "prompt_number": 27
    },
    {
     "cell_type": "code",
     "collapsed": false,
     "input": [
      "import sklearn.cross_validation\n",
      "\n",
      "cv = sklearn.cross_validation.StratifiedShuffleSplit(y, n_iter=10, test_size=.25)\n",
      "scores = sklearn.cross_validation.cross_val_score(gnb, X, y, cv=cv)\n",
      "\n",
      "print scores.mean(), scores.std()"
     ],
     "language": "python",
     "metadata": {},
     "outputs": [
      {
       "output_type": "stream",
       "stream": "stdout",
       "text": [
        "0.726789838337 0.00678536805217\n"
       ]
      }
     ],
     "prompt_number": 28
    },
    {
     "cell_type": "markdown",
     "metadata": {},
     "source": [
      "# Going SVM"
     ]
    },
    {
     "cell_type": "code",
     "collapsed": false,
     "input": [
      "import sklearn.svm"
     ],
     "language": "python",
     "metadata": {},
     "outputs": [],
     "prompt_number": 29
    },
    {
     "cell_type": "code",
     "collapsed": false,
     "input": [
      "clf = sklearn.svm.SVC()\n",
      "clf.fit(X, y)"
     ],
     "language": "python",
     "metadata": {},
     "outputs": [
      {
       "metadata": {},
       "output_type": "pyout",
       "prompt_number": 30,
       "text": [
        "SVC(C=1.0, cache_size=200, class_weight=None, coef0=0.0, degree=3, gamma=0.0,\n",
        "  kernel='rbf', max_iter=-1, probability=False, random_state=None,\n",
        "  shrinking=True, tol=0.001, verbose=False)"
       ]
      }
     ],
     "prompt_number": 30
    },
    {
     "cell_type": "code",
     "collapsed": false,
     "input": [
      "y_pred = clf.predict(X)\n",
      "np.mean(y_pred == y)"
     ],
     "language": "python",
     "metadata": {},
     "outputs": [
      {
       "metadata": {},
       "output_type": "pyout",
       "prompt_number": 31,
       "text": [
        "0.99884526558891451"
       ]
      }
     ],
     "prompt_number": 31
    },
    {
     "cell_type": "code",
     "collapsed": false,
     "input": [
      "scores = sklearn.cross_validation.cross_val_score(clf, X, y)\n",
      "\n",
      "print scores.mean(), scores.std()"
     ],
     "language": "python",
     "metadata": {},
     "outputs": [
      {
       "output_type": "stream",
       "stream": "stdout",
       "text": [
        "0.713818575311 0.000310494742924\n"
       ]
      }
     ],
     "prompt_number": 32
    },
    {
     "cell_type": "markdown",
     "metadata": {},
     "source": [
      "ok not so much though..."
     ]
    },
    {
     "cell_type": "code",
     "collapsed": false,
     "input": [
      "cv = sklearn.cross_validation.StratifiedShuffleSplit(y, n_iter=10, test_size=.25)\n",
      "scores = sklearn.cross_validation.cross_val_score(clf, X, y, cv=cv)\n",
      "\n",
      "print scores.mean(), scores.std()"
     ],
     "language": "python",
     "metadata": {},
     "outputs": [
      {
       "output_type": "stream",
       "stream": "stdout",
       "text": [
        "0.713625866051 0.0\n"
       ]
      }
     ],
     "prompt_number": 33
    },
    {
     "cell_type": "markdown",
     "metadata": {},
     "source": [
      "# Next steps\n",
      "\n",
      "At this stage, the SVM is not performing hugely, as it is not  really better than a Naive Bayes classifier. We can try to improve it by playing around with parameters in SVM. As we also do a very heavy imputation of the data, it would be nice to understand what would be the best imputation method to get good results. \n",
      "\n",
      "Also, it is not really clear that the classifications we want to use are really on the line of facility types. It would be useful to generate clusters with ACP or other, and then try out classification in time to see how the classes will change in time. "
     ]
    },
    {
     "cell_type": "markdown",
     "metadata": {},
     "source": [
      "## Trying other imputation strategies"
     ]
    },
    {
     "cell_type": "markdown",
     "metadata": {},
     "source": [
      "First, making a function to run classifiers and look at performance for given data"
     ]
    },
    {
     "cell_type": "code",
     "collapsed": false,
     "input": [
      "def test_models(X , y):\n",
      "    gnb = GaussianNB()\n",
      "    gnb.fit(X , y)\n",
      "    clf = sklearn.svm.SVC()\n",
      "    clf.fit(X, y)\n",
      "    cv = sklearn.cross_validation.StratifiedShuffleSplit(y, n_iter=10, test_size=.25)\n",
      "    perf_gnb = sklearn.cross_validation.cross_val_score(gnb, X, y, cv=cv).mean()\n",
      "    perf_clf = sklearn.cross_validation.cross_val_score(clf, X, y, cv=cv).mean()\n",
      "    perf = dict(perf_gnb=perf_gnb , perf_clf=perf_clf)\n",
      "    return perf"
     ],
     "language": "python",
     "metadata": {},
     "outputs": [],
     "prompt_number": 35
    },
    {
     "cell_type": "code",
     "collapsed": false,
     "input": [
      "test_models(X , y)"
     ],
     "language": "python",
     "metadata": {},
     "outputs": [
      {
       "metadata": {},
       "output_type": "pyout",
       "prompt_number": 36,
       "text": [
        "{'perf_clf': 0.71362586605080836, 'perf_gnb': 0.72748267898383367}"
       ]
      }
     ],
     "prompt_number": 36
    },
    {
     "cell_type": "code",
     "collapsed": false,
     "input": [
      "X = X_s\n",
      "\n",
      "imp = Imputer(missing_values='NaN', strategy='median', axis=0)\n",
      "imp.fit(X)\n",
      "\n",
      "X = DataFrame(imp.fit_transform(X))\n",
      "\n",
      "test_models(X , y)"
     ],
     "language": "python",
     "metadata": {},
     "outputs": [
      {
       "metadata": {},
       "output_type": "pyout",
       "prompt_number": 43,
       "text": [
        "{'perf_clf': 0.71362586605080836, 'perf_gnb': 0.73171670515781373}"
       ]
      }
     ],
     "prompt_number": 43
    },
    {
     "cell_type": "code",
     "collapsed": false,
     "input": [
      "X = X_s\n",
      "\n",
      "imp = Imputer(missing_values='NaN', strategy='most_frequent', axis=0)\n",
      "imp.fit(X)\n",
      "\n",
      "X = DataFrame(imp.fit_transform(X))\n",
      "\n",
      "test_models(X , y)"
     ],
     "language": "python",
     "metadata": {},
     "outputs": [
      {
       "metadata": {},
       "output_type": "pyout",
       "prompt_number": 62,
       "text": [
        "{'perf_clf': 0.71362586605080836, 'perf_gnb': 0.72755966127790617}"
       ]
      }
     ],
     "prompt_number": 62
    },
    {
     "cell_type": "code",
     "collapsed": false,
     "input": [
      "X = X_s\n",
      "\n",
      "X = X.fillna(0.0)\n",
      "clf.fit(X , y)\n",
      "#test_models(X , y)\n",
      "\n",
      "cv = sklearn.cross_validation.StratifiedShuffleSplit(y, n_iter=10, test_size=.25)\n",
      "scores = sklearn.cross_validation.cross_val_score(clf, X, y)\n",
      "\n",
      "print scores.mean(), scores.std()"
     ],
     "language": "python",
     "metadata": {},
     "outputs": [
      {
       "output_type": "stream",
       "stream": "stdout",
       "text": [
        "0.713818575311 0.000310494742924\n"
       ]
      }
     ],
     "prompt_number": 84
    },
    {
     "cell_type": "code",
     "collapsed": false,
     "input": [
      "## louche de pas avoir de variation dans perf_clf. + pourquoi l'imputation par 0 fait bugger NB ?"
     ],
     "language": "python",
     "metadata": {},
     "outputs": []
    }
   ],
   "metadata": {}
  }
 ]
}