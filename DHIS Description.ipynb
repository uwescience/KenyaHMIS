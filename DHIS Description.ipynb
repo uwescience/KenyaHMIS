{
 "metadata": {
  "name": "",
  "signature": "sha256:cb10ee670ddc70153d13556ba1986d35556cf0da7b883aeaa22891c7a253ca03"
 },
 "nbformat": 3,
 "nbformat_minor": 0,
 "worksheets": [
  {
   "cells": [
    {
     "cell_type": "heading",
     "level": 1,
     "metadata": {},
     "source": [
      "Creating environment"
     ]
    },
    {
     "cell_type": "code",
     "collapsed": false,
     "input": [
      "%matplotlib inline\n",
      "from pandas import Series , DataFrame\n",
      "import pandas as pd , numpy as np , matplotlib.pyplot as plt"
     ],
     "language": "python",
     "metadata": {},
     "outputs": [],
     "prompt_number": 1
    },
    {
     "cell_type": "code",
     "collapsed": false,
     "input": [
      "run_on_j = 'no'"
     ],
     "language": "python",
     "metadata": {},
     "outputs": [],
     "prompt_number": 2
    },
    {
     "cell_type": "code",
     "collapsed": false,
     "input": [
      "data = pd.read_csv('C://users/grlurton/desktop/extracted_data/data_kenya.csv')\n",
      "data_categories = pd.read_csv('C://users/grlurton/desktop/extracted_data/data_categories.csv')\n",
      "data_elements = pd.read_csv('C://users/grlurton/desktop/extracted_data/data_elements.csv')\n",
      "org_units = pd.read_csv('C://users/grlurton/desktop/extracted_data/org_units.csv')\n",
      "org_units_groups = pd.read_csv('C://users/grlurton/desktop/extracted_data/org_units_groups.csv')\n",
      "org_units_description = pd.read_csv('C://users/grlurton/desktop/extracted_data/org_units_description.csv')\n",
      "org_units_data_sets = pd.read_csv('C://users/grlurton/desktop/extracted_data/org_units_data_sets.csv')\n",
      "del data['Unnamed: 0']"
     ],
     "language": "python",
     "metadata": {},
     "outputs": [],
     "prompt_number": 3
    },
    {
     "cell_type": "heading",
     "level": 1,
     "metadata": {},
     "source": [
      "Relabel data"
     ]
    },
    {
     "cell_type": "code",
     "collapsed": false,
     "input": [
      "def label_IDs(data , var_id , dico_id , dico_name):\n",
      "    dico = dict(zip(dico_id,dico_name))\n",
      "    return data[var_id].map(dico)\n",
      "    \n",
      "data['data_element_name'] = label_IDs(data , 'data_element_ID' , data_elements['data_element_ID'] , data_elements['data_element_name'])\n",
      "data['category_name'] = label_IDs(data , 'category' , data_categories['category_ID'] , data_categories['category_name'])"
     ],
     "language": "python",
     "metadata": {},
     "outputs": [],
     "prompt_number": 4
    },
    {
     "cell_type": "code",
     "collapsed": false,
     "input": [
      "piv = pd.pivot_table(data,index=[\"data_element_name\",\"category_name\",\"period\"],values=[\"value\"] , aggfunc=len)"
     ],
     "language": "python",
     "metadata": {},
     "outputs": [],
     "prompt_number": 5
    },
    {
     "cell_type": "code",
     "collapsed": false,
     "input": [
      "if run_on_j == 'yes':\n",
      "    DataFrame.to_csv(piv , 'J://project/dhis/kenya/content/description_content.csv')"
     ],
     "language": "python",
     "metadata": {},
     "outputs": [],
     "prompt_number": 6
    },
    {
     "cell_type": "heading",
     "level": 1,
     "metadata": {},
     "source": [
      "Situating each orgunit in its State"
     ]
    },
    {
     "cell_type": "code",
     "collapsed": false,
     "input": [
      "org_units_to_hierarch = org_units_description[['org_unit_ID' , 'parent_id']]\n",
      "\n",
      "org_units_start = org_units_to_hierarch[org_units_to_hierarch['org_unit_ID'] == 'HfVjCurKxh2']\n",
      "print(len(org_units_start))\n",
      "org_units_to_hierarch2 = pd.merge(org_units_start, org_units_to_hierarch, \n",
      "                                  left_on=['org_unit_ID'], right_on=['parent_id'],suffixes=('','_1'), how='inner' )\n",
      "print(len(org_units_to_hierarch2))\n",
      "org_units_to_hierarch2 = pd.merge(org_units_to_hierarch2, org_units_to_hierarch, \n",
      "                                  left_on=['org_unit_ID_1'], right_on=['parent_id'],suffixes=('','_2'), how='inner' )\n",
      "print(len(org_units_to_hierarch2))\n",
      "org_units_to_hierarch2 = pd.merge(org_units_to_hierarch2, org_units_to_hierarch, \n",
      "                                  left_on=['org_unit_ID_2'], right_on=['parent_id'],suffixes=('','_3'), how='inner' )\n",
      "print(len(org_units_to_hierarch2))\n",
      "org_units_to_hierarch2 = pd.merge(org_units_to_hierarch2, org_units_to_hierarch, \n",
      "                                  left_on=['org_unit_ID_3'], right_on=['parent_id'],suffixes=('','_4'), how='left' )\n",
      "print(len(org_units_to_hierarch2))"
     ],
     "language": "python",
     "metadata": {},
     "outputs": [
      {
       "output_type": "stream",
       "stream": "stdout",
       "text": [
        "1\n",
        "47\n",
        "295\n",
        "9346\n",
        "10558\n"
       ]
      }
     ],
     "prompt_number": 7
    },
    {
     "cell_type": "markdown",
     "metadata": {},
     "source": [
      "Do determine the depth of the merging, I just looked at how much I was increasing the number. Last step is only for a few facilities, which reduces the actual number of units if we keep and inner joint, so have to do it on left. There must be a more systematic way to handle this"
     ]
    },
    {
     "cell_type": "code",
     "collapsed": false,
     "input": [
      "org_units_to_hierarch2['county'] = label_IDs(org_units_to_hierarch2 , 'org_unit_ID_1' , \n",
      "                                            org_units['org_unit_ID'] , org_units['org_unit_name'])\n",
      "org_units_to_hierarch2['county_ID'] = label_IDs(org_units_to_hierarch2 , 'org_unit_ID_1' , \n",
      "                                            org_units['org_unit_ID'] , org_units['org_unit_ID'])"
     ],
     "language": "python",
     "metadata": {},
     "outputs": [],
     "prompt_number": 8
    },
    {
     "cell_type": "code",
     "collapsed": false,
     "input": [
      "# Add counties inside data\n",
      "data['county'] = label_IDs(data , 'org_unit_ID' , \n",
      "                           org_units_to_hierarch2['org_unit_ID_3'] , org_units_to_hierarch2['county'])\n",
      "data['county_ID'] = label_IDs(data , 'org_unit_ID' , \n",
      "                           org_units_to_hierarch2['org_unit_ID_3'] , org_units_to_hierarch2['county_ID'])"
     ],
     "language": "python",
     "metadata": {},
     "outputs": [],
     "prompt_number": 9
    },
    {
     "cell_type": "code",
     "collapsed": false,
     "input": [
      "org_units_data_sets['county'] = label_IDs(org_units_data_sets , 'org_unit_ID' ,\n",
      "                                          org_units_to_hierarch2['org_unit_ID_3'] , org_units_to_hierarch2['county'])"
     ],
     "language": "python",
     "metadata": {},
     "outputs": [],
     "prompt_number": 10
    },
    {
     "cell_type": "code",
     "collapsed": false,
     "input": [
      "# Required number of reports\n",
      "\n",
      "required_reports = DataFrame(org_units_data_sets['org_unit_ID'].groupby([org_units_data_sets['dataset_ID'] , \n",
      "                                                                         org_units_data_sets['county']]).nunique())\n",
      "required_reports.columns = ['number_required']"
     ],
     "language": "python",
     "metadata": {},
     "outputs": [],
     "prompt_number": 11
    },
    {
     "cell_type": "code",
     "collapsed": false,
     "input": [
      "# Translation in indicators terms\n",
      "\n",
      "required_indicators = pd.merge(required_reports.reset_index() , data_elements , \n",
      "                            right_on = 'datasets_ID' , left_on = 'dataset_ID' ,\n",
      "                            left_index=True, \n",
      "                            how='inner', sort=False)\n",
      "\n",
      "del required_indicators['Unnamed: 0']"
     ],
     "language": "python",
     "metadata": {},
     "outputs": [],
     "prompt_number": 12
    },
    {
     "cell_type": "heading",
     "level": 1,
     "metadata": {},
     "source": [
      "Malaria Data Extraction"
     ]
    },
    {
     "cell_type": "code",
     "collapsed": false,
     "input": [
      "data_malaria = data[data['data_element_name'].str.lower().str.contains('malaria')]"
     ],
     "language": "python",
     "metadata": {},
     "outputs": [],
     "prompt_number": 13
    },
    {
     "cell_type": "code",
     "collapsed": false,
     "input": [
      "data_malaria['data_element_name'].value_counts()"
     ],
     "language": "python",
     "metadata": {},
     "outputs": [
      {
       "metadata": {},
       "output_type": "pyout",
       "prompt_number": 14,
       "text": [
        "Clinical Malaria                                                400294\n",
        "Confirmed Malaria                                               304614\n",
        "Malaria in pregnant woman                                        94144\n",
        "IDSR Malaria                                                     72460\n",
        "IDSR Tested for malaria                                          26355\n",
        "Malaria inpatient cases                                          19755\n",
        "Malaria Rapid Diagnostic Test (RDT)                              19585\n",
        "IDSR Positive malaria                                            18187\n",
        "Malaria Inpatient                                                10873\n",
        "Children <5 years treated for Malaria                             4832\n",
        "Malaria inpatient deaths                                          3904\n",
        "Smear Negative Malaria                                            3480\n",
        "AWP Number of fevers tested positive for malaria (confirmed malaria)      2944\n",
        "Smear Positive Malaria                                            2791\n",
        "Children <5 years treated for Malaria AOP-yr                      1049\n",
        "Children over 5 years treated for malaria AOP-yr                   654\n",
        "Clinical Malaria (Suspected)                                       505\n",
        "Malaria test done                                                  412\n",
        "Confirmed Malaria (Lab confirm Only)                               391\n",
        "No malaria parasites slides done                                   291\n",
        "Malaria inpatient cases-AOP-yr                                     213\n",
        "Malaria inpatients deaths-AOP-yr                                   159\n",
        "MDR - Malaria                                                       14\n",
        "MOH 706_Malaria BS (Under five years)                               10\n",
        "MOH 706_Malaria BS (5 years and above)                              10\n",
        "MDR - Anteimalarial                                                 10\n",
        "Peri - Parenteral Antemalarial                                       4\n",
        "dtype: int64"
       ]
      }
     ],
     "prompt_number": 14
    },
    {
     "cell_type": "code",
     "collapsed": false,
     "input": [
      "data[data['data_element_name'] == 'Positive Result']['category_name'].value_counts()"
     ],
     "language": "python",
     "metadata": {},
     "outputs": [
      {
       "metadata": {},
       "output_type": "pyout",
       "prompt_number": 32,
       "text": [
        "(RDT)           3234\n",
        "(Microscopy)    1932\n",
        "dtype: int64"
       ]
      }
     ],
     "prompt_number": 32
    },
    {
     "cell_type": "code",
     "collapsed": false,
     "input": [
      "def make_resume_dataframe(data , indicator , category):\n",
      "    data_subset = data[(data['data_element_name'] == indicator) & (data['category_name'].isin(category))]\n",
      "    sum_values = DataFrame(data_subset['value'].astype(float).groupby([data_subset['period'] , data_subset['county'], \n",
      "                                                                       data_subset['county_ID']]).sum())\n",
      "    data_availability = DataFrame(data_subset['org_unit_ID'].groupby([data_subset['period'] , data_subset['county'] ,\n",
      "                                                                       data_subset['county_ID']]).nunique())\n",
      "    sum_values.columns = ['value']\n",
      "    data_availability.columns = ['availability']\n",
      "    out = pd.merge(sum_values.reset_index() , data_availability.reset_index() , \n",
      "                on = ['period','county','county_ID'] , how = 'inner').set_index(['period','county','county_ID'])\n",
      "    return out\n",
      "\n",
      "confirmed_malaria = make_resume_dataframe(data , 'Confirmed Malaria' , ['(>5 yrs)' , '(<5 yrs)'])\n",
      "print len(confirmed_malaria)\n",
      "malaria_positive = make_resume_dataframe(data , 'Positive Result' , ['(RDT)' , '(Microscopy)'])\n",
      "print len(malaria_positive)"
     ],
     "language": "python",
     "metadata": {},
     "outputs": [
      {
       "output_type": "stream",
       "stream": "stdout",
       "text": [
        "2582\n",
        "303"
       ]
      },
      {
       "output_type": "stream",
       "stream": "stdout",
       "text": [
        "\n"
       ]
      }
     ],
     "prompt_number": 35
    },
    {
     "cell_type": "code",
     "collapsed": false,
     "input": [
      "required_malaria_conf = required_indicators[required_indicators.data_element_name == 'Confirmed Malaria']\n",
      "\n",
      "confirmed_malaria_final = pd.merge(required_malaria_conf , confirmed_malaria.reset_index() , \n",
      "                                   on = 'county' ,\n",
      "                                   how='inner', sort=False)\n",
      "\n",
      "confirmed_malaria_final['availability_rate'] = confirmed_malaria_final['availability'] / confirmed_malaria_final['number_required']\n",
      "confirmed_malaria_final = confirmed_malaria_final[confirmed_malaria_final['availability_rate'] <= 1]"
     ],
     "language": "python",
     "metadata": {},
     "outputs": [],
     "prompt_number": 40
    },
    {
     "cell_type": "code",
     "collapsed": false,
     "input": [
      "required_positive = required_indicators[required_indicators.data_element_name ==  'Positive Result']\n",
      "\n",
      "malaria_positive_final = pd.merge(required_positive , malaria_positive.reset_index() , \n",
      "                                   on = 'county' ,\n",
      "                                   how='inner', sort=False)\n",
      "\n",
      "malaria_positive_final['availability_rate'] = malaria_positive_final['availability'] / malaria_positive_final['number_required']\n",
      "malaria_positive_final = malaria_positive_final[malaria_positive_final['availability_rate'] <= 1]"
     ],
     "language": "python",
     "metadata": {},
     "outputs": [],
     "prompt_number": 41
    },
    {
     "cell_type": "code",
     "collapsed": false,
     "input": [
      "malaria_positive_final = DataFrame(malaria_positive_final)\n",
      "confirmed_malaria_final = DataFrame(confirmed_malaria_final)"
     ],
     "language": "python",
     "metadata": {},
     "outputs": [],
     "prompt_number": 43
    },
    {
     "cell_type": "code",
     "collapsed": false,
     "input": [
      "DataFrame.to_csv(confirmed_malaria_final , 'C://users/grlurton/desktop/extracted_data/final_malaria_confirmed.csv')\n",
      "DataFrame.to_csv(malaria_positive_final , 'C://users/grlurton/desktop/extracted_data/final_malaria_positive.csv')"
     ],
     "language": "python",
     "metadata": {},
     "outputs": [],
     "prompt_number": 44
    },
    {
     "cell_type": "code",
     "collapsed": false,
     "input": [
      "fig, ax = plt.subplots()\n",
      "catcol = final_data_set['county']\n",
      "categories = np.unique(final_data_set['county'])\n",
      "colors = np.linspace(0, 1, len(categories))\n",
      "colordict = dict(zip(categories, colors))  \n",
      "\n",
      "final_data_set[\"Color\"] = final_data_set['county'].apply(lambda x: colordict[x])\n",
      "ax.scatter(final_data_set['availability_rate'], final_data_set['value'], c=final_data_set.Color)\n",
      "\n",
      "\n",
      "#final_data_set.plot(kind='scatter', x='availablity_rate', y='value' , color = col)"
     ],
     "language": "python",
     "metadata": {},
     "outputs": [],
     "prompt_number": 21
    }
   ],
   "metadata": {}
  }
 ]
}